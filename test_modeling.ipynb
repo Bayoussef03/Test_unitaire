{
 "cells": [
  {
   "cell_type": "code",
   "execution_count": null,
   "id": "fcb0ed6e",
   "metadata": {},
   "outputs": [
    {
     "ename": "ModuleNotFoundError",
     "evalue": "No module named 'src'",
     "output_type": "error",
     "traceback": [
      "\u001b[1;31m---------------------------------------------------------------------------\u001b[0m",
      "\u001b[1;31mModuleNotFoundError\u001b[0m                       Traceback (most recent call last)",
      "Cell \u001b[1;32mIn[1], line 1\u001b[0m\n\u001b[1;32m----> 1\u001b[0m \u001b[38;5;28;01mfrom\u001b[39;00m \u001b[38;5;21;01msrc\u001b[39;00m\u001b[38;5;21;01m.\u001b[39;00m\u001b[38;5;21;01mmodeling\u001b[39;00m \u001b[38;5;28;01mimport\u001b[39;00m build_pipeline\n\u001b[0;32m      2\u001b[0m \u001b[38;5;28;01mfrom\u001b[39;00m \u001b[38;5;21;01msklearn\u001b[39;00m\u001b[38;5;21;01m.\u001b[39;00m\u001b[38;5;21;01mdatasets\u001b[39;00m \u001b[38;5;28;01mimport\u001b[39;00m make_classification\n\u001b[0;32m      4\u001b[0m \u001b[38;5;28;01mdef\u001b[39;00m \u001b[38;5;21mtest_pipeline_training\u001b[39m():\n",
      "\u001b[1;31mModuleNotFoundError\u001b[0m: No module named 'src'"
     ]
    }
   ],
   "source": [
    "import pytest\n",
    "import pandas as pd\n",
    "from src.modeling import build_pipeline, evaluate_model\n",
    "\n",
    "# Jeu minimal\n",
    "X = pd.Series([\"sunny day\", \"heavy rain!\"])\n",
    "y = pd.Series([0, 1])\n",
    "\n",
    "@ pytest.fixture\n",
    "def pipe():\n",
    "     pipe = build_pipeline()\n",
    "     pipe.fit(X, y)\n",
    "     return pipe\n",
    "\n",
    "\n",
    "def test_pipeline_predict_shape(pipe):\n",
    "    preds = pipe.predict(X)\n",
    "    assert preds.shape == y.shape\n",
    "\n",
    "\n",
    "def test_evaluate_model(pipe):\n",
    "    metrics = evaluate_model(pipe, X, y)\n",
    "    assert set(['accuracy','precision','recall','f1','report']) <= set(metrics.keys())\n",
    "    assert isinstance(metrics['accuracy'], float)"
   ]
  }
 ],
 "metadata": {
  "kernelspec": {
   "display_name": "Python 3",
   "language": "python",
   "name": "python3"
  },
  "language_info": {
   "codemirror_mode": {
    "name": "ipython",
    "version": 3
   },
   "file_extension": ".py",
   "mimetype": "text/x-python",
   "name": "python",
   "nbconvert_exporter": "python",
   "pygments_lexer": "ipython3",
   "version": "3.9.0"
  }
 },
 "nbformat": 4,
 "nbformat_minor": 5
}
