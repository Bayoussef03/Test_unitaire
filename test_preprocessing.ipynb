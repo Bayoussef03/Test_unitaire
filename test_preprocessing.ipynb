{
 "cells": [
  {
   "cell_type": "code",
   "execution_count": null,
   "metadata": {},
   "outputs": [],
   "source": [
    "import pytest\n",
    "from src.preprocessing import clean_text\n",
    "\n",
    "@ pytest.mark.parametrize(\"inp,expected_tokens\", [\n",
    "    (\"Hello world!!!\", ['hello', 'world']),\n",
    "    (\"123 ABC def\", ['abc', 'def']),\n",
    "])\n",
    "def test_clean_text_basic(inp, expected_tokens):\n",
    "    tokens = clean_text(inp)\n",
    "    assert tokens == expected_tokens\n",
    "\n",
    "\n",
    "def test_clean_text_empty():\n",
    "    assert clean_text(\"\") == []"
   ]
  }
 ],
 "metadata": {
  "language_info": {
   "name": "python"
  }
 },
 "nbformat": 4,
 "nbformat_minor": 2
}
